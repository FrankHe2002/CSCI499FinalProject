{
 "cells": [
  {
   "cell_type": "code",
   "execution_count": 1,
   "metadata": {
    "scrolled": true
   },
   "outputs": [
    {
     "name": "stdout",
     "output_type": "stream",
     "text": [
      "Requirement already satisfied: openai in /Users/keyuhe/anaconda3/lib/python3.11/site-packages (1.3.3)\n",
      "Requirement already satisfied: anyio<4,>=3.5.0 in /Users/keyuhe/anaconda3/lib/python3.11/site-packages (from openai) (3.5.0)\n",
      "Requirement already satisfied: distro<2,>=1.7.0 in /Users/keyuhe/anaconda3/lib/python3.11/site-packages (from openai) (1.8.0)\n",
      "Requirement already satisfied: httpx<1,>=0.23.0 in /Users/keyuhe/anaconda3/lib/python3.11/site-packages (from openai) (0.25.1)\n",
      "Requirement already satisfied: pydantic<3,>=1.9.0 in /Users/keyuhe/anaconda3/lib/python3.11/site-packages (from openai) (1.10.8)\n",
      "Requirement already satisfied: tqdm>4 in /Users/keyuhe/anaconda3/lib/python3.11/site-packages (from openai) (4.65.0)\n",
      "Requirement already satisfied: typing-extensions<5,>=4.5 in /Users/keyuhe/anaconda3/lib/python3.11/site-packages (from openai) (4.7.1)\n",
      "Requirement already satisfied: idna>=2.8 in /Users/keyuhe/anaconda3/lib/python3.11/site-packages (from anyio<4,>=3.5.0->openai) (3.4)\n",
      "Requirement already satisfied: sniffio>=1.1 in /Users/keyuhe/anaconda3/lib/python3.11/site-packages (from anyio<4,>=3.5.0->openai) (1.2.0)\n",
      "Requirement already satisfied: certifi in /Users/keyuhe/anaconda3/lib/python3.11/site-packages (from httpx<1,>=0.23.0->openai) (2023.7.22)\n",
      "Requirement already satisfied: httpcore in /Users/keyuhe/anaconda3/lib/python3.11/site-packages (from httpx<1,>=0.23.0->openai) (1.0.1)\n",
      "Requirement already satisfied: h11<0.15,>=0.13 in /Users/keyuhe/anaconda3/lib/python3.11/site-packages (from httpcore->httpx<1,>=0.23.0->openai) (0.14.0)\n"
     ]
    }
   ],
   "source": [
    "!pip install --upgrade openai"
   ]
  },
  {
   "cell_type": "code",
   "execution_count": 2,
   "metadata": {},
   "outputs": [],
   "source": [
    "import os\n",
    "import openai\n",
    "import glob\n",
    "from tqdm import tqdm\n",
    "from concurrent.futures import ThreadPoolExecutor, as_completed"
   ]
  },
  {
   "cell_type": "code",
   "execution_count": 5,
   "metadata": {},
   "outputs": [],
   "source": [
    "def debug_code_with_gpt(code_content, API_KEY, few_shot, CoT):\n",
    "    if few_shot == '0' and CoT == 'n':\n",
    "        prompt = \"The provided Java code may be buggy. Fix the bug if one exists, \\\n",
    "        using minimal changes. Do not reorganize. Do not optimize. \\\n",
    "        Do not provide explanation or justification. Format your code in markdown.\\n```java\\n\"\\\n",
    "        + code_content + \"\\n```\"\n",
    "    elif few_shot == '0' and CoT == 'c':\n",
    "        prompt = \"The provided Java code may be buggy. Review the Java code and identify the bug \\\n",
    "        type if one exists. Explain the reasoning process, thinking step-by-step, for identifying \\\n",
    "        and fixing the bug. Apply the fix using minimal changes. Do not reorganize or optimize the code. \\\n",
    "        Format your code in markdown.\\n```java\\n\" + code_content + \"\\n```\"\n",
    "    elif few_shot == 'f' and CoT == 'n':\n",
    "        pass\n",
    "    elif few_shot == 'f' and CoT == 'c':\n",
    "        pass\n",
    "    else:\n",
    "        raise ValueError(\"few_shot should be '0' or 'f', CoT should be 'n' or 'c'.\")\n",
    "    try:\n",
    "        client = openai.OpenAI(api_key=API_KEY)\n",
    "        response = client.chat.completions.create(\n",
    "            model=\"gpt-3.5-turbo\",\n",
    "            messages=[\n",
    "                {\"role\": \"user\", \"content\": f\"{prompt}\"}\n",
    "            ],\n",
    "            max_tokens=512  # Adjust as needed\n",
    "        )\n",
    "        output = response.choices[0].message.content\n",
    "#         lines = output.split('\\n')\n",
    "#         # Remove the first and last lines\n",
    "#         modified_content = '\\n'.join(lines[1:-1])\n",
    "#         return modified_content\n",
    "        return output\n",
    "    except Exception as e:\n",
    "        print(\"Error during API call:\", e)\n",
    "        return None\n",
    "\n",
    "def process_file(file_path, target_directory, api_key, few_shot, CoT):\n",
    "    with open(file_path, 'r') as file:\n",
    "        file_content = file.read()\n",
    "\n",
    "    debugged_content = debug_code_with_gpt(file_content, api_key, few_shot, CoT)\n",
    "\n",
    "    if debugged_content:\n",
    "        target_file_path = os.path.join(target_directory, os.path.basename(file_path))\n",
    "        with open(target_file_path, 'w') as file:\n",
    "            file.write(debugged_content)\n",
    "#         print(f\"Debugged code written to {target_file_path}\")\n",
    "\n",
    "def process_files_in_parallel(source_directory, target_directory, api_key, few_shot, CoT, max_workers=35):\n",
    "    if not os.path.exists(target_directory):\n",
    "        os.makedirs(target_directory)\n",
    "\n",
    "    file_paths = glob.glob(os.path.join(source_directory, '*.java'))\n",
    "    with ThreadPoolExecutor(max_workers=max_workers) as executor:\n",
    "        futures = [executor.submit(process_file, file_path, target_directory, api_key, few_shot, CoT)\\\n",
    "                   for file_path in file_paths]\n",
    "        for future in tqdm(as_completed(futures), total=len(file_paths)):\n",
    "            future.result()  # This will re-raise any exception caught during process_file execution"
   ]
  },
  {
   "cell_type": "code",
   "execution_count": 4,
   "metadata": {},
   "outputs": [
    {
     "name": "stderr",
     "output_type": "stream",
     "text": [
      "100%|███████████████████████████████████████| 1766/1766 [43:05<00:00,  1.46s/it]\n"
     ]
    }
   ],
   "source": [
    "if __name__ == \"__main__\":\n",
    "    \n",
    "    # '0' (zero-shot) or 'f' (few-shot)\n",
    "    few_shot = '0'\n",
    "    # 'n' (no Chain-of-Thought) or 'c' (with Chain-of-Thought)\n",
    "    CoT = 'n'\n",
    "    \n",
    "    with open('API_KEY.txt', 'r') as file:\n",
    "        api_key = file.read().strip()\n",
    "    source_dir = 'data/formatted/buggy_codes'  # Source directory\n",
    "    target_dir = f'data/formatted/debugged_codes_{few_shot}_{CoT}'  # Target directory\n",
    "\n",
    "    process_files_in_parallel(source_dir, target_dir, api_key, few_shot, CoT)"
   ]
  },
  {
   "cell_type": "code",
   "execution_count": null,
   "metadata": {},
   "outputs": [],
   "source": []
  }
 ],
 "metadata": {
  "kernelspec": {
   "display_name": "Python 3 (ipykernel)",
   "language": "python",
   "name": "python3"
  },
  "language_info": {
   "codemirror_mode": {
    "name": "ipython",
    "version": 3
   },
   "file_extension": ".py",
   "mimetype": "text/x-python",
   "name": "python",
   "nbconvert_exporter": "python",
   "pygments_lexer": "ipython3",
   "version": "3.11.6"
  }
 },
 "nbformat": 4,
 "nbformat_minor": 2
}
