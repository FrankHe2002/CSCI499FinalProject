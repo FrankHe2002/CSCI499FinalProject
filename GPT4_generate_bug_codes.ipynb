{
 "cells": [
  {
   "cell_type": "code",
   "execution_count": 1,
   "metadata": {},
   "outputs": [
    {
     "name": "stdout",
     "output_type": "stream",
     "text": [
      "Requirement already satisfied: openai in /Users/keyuhe/anaconda3/lib/python3.11/site-packages (1.1.2)\n",
      "Collecting openai\n",
      "  Obtaining dependency information for openai from https://files.pythonhosted.org/packages/69/95/22a9a81cebd54e18841da429f05f06ed867648768f7af938ad34f13197fd/openai-1.3.3-py3-none-any.whl.metadata\n",
      "  Downloading openai-1.3.3-py3-none-any.whl.metadata (16 kB)\n",
      "Requirement already satisfied: anyio<4,>=3.5.0 in /Users/keyuhe/anaconda3/lib/python3.11/site-packages (from openai) (3.5.0)\n",
      "Requirement already satisfied: distro<2,>=1.7.0 in /Users/keyuhe/anaconda3/lib/python3.11/site-packages (from openai) (1.8.0)\n",
      "Requirement already satisfied: httpx<1,>=0.23.0 in /Users/keyuhe/anaconda3/lib/python3.11/site-packages (from openai) (0.25.1)\n",
      "Requirement already satisfied: pydantic<3,>=1.9.0 in /Users/keyuhe/anaconda3/lib/python3.11/site-packages (from openai) (1.10.8)\n",
      "Requirement already satisfied: tqdm>4 in /Users/keyuhe/anaconda3/lib/python3.11/site-packages (from openai) (4.65.0)\n",
      "Requirement already satisfied: typing-extensions<5,>=4.5 in /Users/keyuhe/anaconda3/lib/python3.11/site-packages (from openai) (4.7.1)\n",
      "Requirement already satisfied: idna>=2.8 in /Users/keyuhe/anaconda3/lib/python3.11/site-packages (from anyio<4,>=3.5.0->openai) (3.4)\n",
      "Requirement already satisfied: sniffio>=1.1 in /Users/keyuhe/anaconda3/lib/python3.11/site-packages (from anyio<4,>=3.5.0->openai) (1.2.0)\n",
      "Requirement already satisfied: certifi in /Users/keyuhe/anaconda3/lib/python3.11/site-packages (from httpx<1,>=0.23.0->openai) (2023.7.22)\n",
      "Requirement already satisfied: httpcore in /Users/keyuhe/anaconda3/lib/python3.11/site-packages (from httpx<1,>=0.23.0->openai) (1.0.1)\n",
      "Requirement already satisfied: h11<0.15,>=0.13 in /Users/keyuhe/anaconda3/lib/python3.11/site-packages (from httpcore->httpx<1,>=0.23.0->openai) (0.14.0)\n",
      "Downloading openai-1.3.3-py3-none-any.whl (220 kB)\n",
      "\u001b[2K   \u001b[90m━━━━━━━━━━━━━━━━━━━━━━━━━━━━━━━━━━━━━━━━\u001b[0m \u001b[32m220.3/220.3 kB\u001b[0m \u001b[31m1.4 MB/s\u001b[0m eta \u001b[36m0:00:00\u001b[0ma \u001b[36m0:00:01\u001b[0m\n",
      "\u001b[?25hInstalling collected packages: openai\n",
      "  Attempting uninstall: openai\n",
      "    Found existing installation: openai 1.1.2\n",
      "    Uninstalling openai-1.1.2:\n",
      "      Successfully uninstalled openai-1.1.2\n",
      "Successfully installed openai-1.3.3\n"
     ]
    }
   ],
   "source": [
    "!pip install --upgrade openai"
   ]
  },
  {
   "cell_type": "code",
   "execution_count": 13,
   "metadata": {},
   "outputs": [],
   "source": [
    "import os\n",
    "import openai\n",
    "import glob\n",
    "from tqdm import tqdm"
   ]
  },
  {
   "cell_type": "code",
   "execution_count": 18,
   "metadata": {},
   "outputs": [],
   "source": [
    "def debug_code_with_gpt(code_content, API_KEY):\n",
    "    prompt = \"The provided Java code is buggy. Fix the bug, using minimal changes. \\\n",
    "    Do not reorganize. Do not optimize. Do not provide explanation or justification. \\\n",
    "    Format your code in markdown.\\n```java\\n\" + code_content + \"\\n```\"\n",
    "    try:\n",
    "        client = openai.OpenAI(api_key=API_KEY)\n",
    "        response = client.chat.completions.create(\n",
    "            model=\"gpt-3.5-turbo\",\n",
    "            messages=[\n",
    "                {\"role\": \"user\", \"content\": f\"{prompt}\"}\n",
    "            ],\n",
    "            max_tokens=512  # Adjust as needed\n",
    "        )\n",
    "        return response.choices[0].message.content\n",
    "    except Exception as e:\n",
    "        print(\"Error during API call:\", e)\n",
    "        return None\n",
    "\n",
    "def process_files(source_directory, target_directory, api_key):\n",
    "    if not os.path.exists(target_directory):\n",
    "        os.makedirs(target_directory)\n",
    "\n",
    "    for file_path in tqdm(glob.glob(os.path.join(source_directory, '*.java'))):\n",
    "        with open(file_path, 'r') as file:\n",
    "            file_content = file.read()\n",
    "\n",
    "        debugged_content = debug_code_with_gpt(file_content, api_key)\n",
    "\n",
    "        if debugged_content:\n",
    "            target_file_path = os.path.join(target_directory, os.path.basename(file_path))\n",
    "            with open(target_file_path, 'w') as file:\n",
    "                file.write(debugged_content)\n",
    "            print(f\"Debugged code written to {target_file_path}\")"
   ]
  },
  {
   "cell_type": "code",
   "execution_count": 19,
   "metadata": {},
   "outputs": [
    {
     "name": "stderr",
     "output_type": "stream",
     "text": [
      " 33%|███████████████                              | 1/3 [00:21<00:43, 21.78s/it]"
     ]
    },
    {
     "name": "stdout",
     "output_type": "stream",
     "text": [
      "```java\n",
      "class Solution {\n",
      "    List<String> res = new ArrayList<>();\n",
      "    String s;\n",
      "    int index = 0;\n",
      "    Set<String> set = new HashSet<>();\n",
      "    public List<String> wordBreak(String s, List<String> wordDict) {\n",
      "        this.s = s;\n",
      "        for (String word: wordDict) set.add(word);\n",
      "        backtrack(\"\");\n",
      "        return res;\n",
      "    }\n",
      "    public void backtrack(String sentence) {\n",
      "        if (index == s.length()) {\n",
      "            res.add(sentence.trim());\n",
      "            return;\n",
      "        }\n",
      "        int indexCopy = index;\n",
      "        for (int i = index + 1; i <= s.length(); i++) {\n",
      "            String str = s.substring(index, i);\n",
      "            if (set.contains(str)) {\n",
      "                index = i;\n",
      "                backtrack(sentence + \" \" + str);\n",
      "                index = indexCopy;\n",
      "            }\n",
      "        }\n",
      "        index++;\n",
      "        return;\n",
      "    }\n",
      "}\n",
      "```\n",
      "Debugged code written to debugged_codes_tests/Word Break II_no_bug.java\n"
     ]
    },
    {
     "name": "stderr",
     "output_type": "stream",
     "text": [
      "\r",
      " 67%|██████████████████████████████               | 2/3 [01:14<00:40, 40.21s/it]"
     ]
    },
    {
     "name": "stdout",
     "output_type": "stream",
     "text": [
      "```java\n",
      "class Solution {\n",
      "    class TrieNode {\n",
      "        Map<Character, TrieNode> children = new HashMap();\n",
      "        boolean word = false;\n",
      "        public TrieNode() {}\n",
      "    }\n",
      "    \n",
      "    int[][] dirs = new int[][]{{0,1},{0,-1},{-1,0},{1,0}};\n",
      "    \n",
      "    public List<String> findWords(char[][] board, String[] words) {\n",
      "        Set<String> res = new HashSet<>();\n",
      "        TrieNode root = new TrieNode();\n",
      "        int m = board.length;\n",
      "        int n = board[0].length;\n",
      "        \n",
      "        for (String word : words) {\n",
      "            char[] cArr = word.toCharArray();\n",
      "            TrieNode dummy = root;\n",
      "            \n",
      "            for (char c : cArr) {\n",
      "                if (!dummy.children.containsKey(c)) {\n",
      "                    dummy.children.put(c, new TrieNode());\n",
      "                }\n",
      "                dummy = dummy.children.get(c);\n",
      "            }\n",
      "            \n",
      "            dummy.word = true;\n",
      "        }\n",
      "        \n",
      "        for (int i = 0; i < m; i++) {\n",
      "            for (int j = 0; j < n; j++) {\n",
      "                char nextChar = board[i][j];\n",
      "                boolean[][] visited = new boolean[m][n];\n",
      "                if (root.children.containsKey(nextChar)) {\n",
      "                    res.addAll(dfs(board, root.children.get(nextChar), i, j, visited, \"\" + nextChar));\n",
      "                }\n",
      "            }\n",
      "        }\n",
      "        \n",
      "        return new ArrayList<>(res);\n",
      "    }\n",
      "    \n",
      "    Set<String> dfs(char[][] board, TrieNode root, int i, int j, boolean[][] visited, String word) {\n",
      "        Set<String> res = new HashSet<>();\n",
      "        \n",
      "        if (root.word) {\n",
      "            res.add(word);\n",
      "            root.word = false;\n",
      "        }\n",
      "        \n",
      "        visited[i][j] = true;\n",
      "        \n",
      "        for (int[] dir : dirs) {\n",
      "            int newI = i + dir[0];\n",
      "            int newJ = j + dir[1];\n",
      "            \n",
      "            if (newI >= 0 && newI < board.length && newJ >= 0 && newJ < board[0].length && !visited[newI][newJ]) {\n",
      "                char nextChar = board[newI][newJ];\n",
      "                if (root.children.containsKey(nextChar)) {\n",
      "                    res.addAll(dfs(board, root.children.get(nextChar), newI, newJ, visited, word + nextChar));\n",
      "                }\n",
      "            }\n",
      "        }\n",
      "        \n",
      "        visited[i][j] = false;\n",
      "        \n",
      "        return res;\n",
      "    }\n",
      "}\n",
      "```\n",
      "Debugged code written to debugged_codes_tests/Word Search II_index.java\n"
     ]
    },
    {
     "name": "stderr",
     "output_type": "stream",
     "text": [
      "100%|█████████████████████████████████████████████| 3/3 [01:32<00:00, 30.81s/it]"
     ]
    },
    {
     "name": "stdout",
     "output_type": "stream",
     "text": [
      "```java\n",
      "class Solution {\n",
      "    public int minimumRefill(int[] plants, int capacityA, int capacityB) {\n",
      "        int count=0;\n",
      "        int c1=capacityA,c2=capacityB;\n",
      "        for(int start=0,end=plants.length-1;start<=plants.length/2&&end>=plants.length/2;start++,end--){\n",
      "            if(start==end||start>end)break;\n",
      "            if(c1>=plants[start]){\n",
      "                c1-=plants[start];\n",
      "            }\n",
      "            else{\n",
      "                count++;\n",
      "                c1=capacityA;\n",
      "                c1-=plants[start];\n",
      "            }\n",
      "            if(c2>=plants[end]){\n",
      "                c2-=plants[end];\n",
      "            }\n",
      "            else{\n",
      "                count++;\n",
      "                c2=capacityB;\n",
      "                c2-=plants[end];\n",
      "            }\n",
      "        }\n",
      "        if((c1>c2||c1==c2)&&plants.length%2!=0){\n",
      "            if(plants[plants.length/2]>c1)count++;\n",
      "        }\n",
      "        else if(c1<c2&&plants.length%2!=0){\n",
      "            if(plants[plants.length/2]>c2)count++;\n",
      "        }\n",
      "        return count;\n",
      "    }\n",
      "}\n",
      "```\n",
      "Debugged code written to debugged_codes_tests/Watering Plants II_operation.java\n"
     ]
    },
    {
     "name": "stderr",
     "output_type": "stream",
     "text": [
      "\n"
     ]
    }
   ],
   "source": [
    "if __name__ == \"__main__\":\n",
    "    with open('API_KEY.txt', 'r') as file:\n",
    "        api_key = file.read().strip()\n",
    "    source_dir = 'bug_codes_tests'  # Source directory\n",
    "    target_dir = 'debugged_codes_tests'  # Target directory\n",
    "\n",
    "    process_files(source_dir, target_dir, api_key)"
   ]
  },
  {
   "cell_type": "code",
   "execution_count": null,
   "metadata": {
    "scrolled": false
   },
   "outputs": [],
   "source": [
    "# client = openai.OpenAI(api_key=API_KEY)"
   ]
  },
  {
   "cell_type": "code",
   "execution_count": null,
   "metadata": {},
   "outputs": [],
   "source": [
    "# prompt = \"Hello GPT-4!\""
   ]
  },
  {
   "cell_type": "code",
   "execution_count": null,
   "metadata": {},
   "outputs": [],
   "source": [
    "# response = client.chat.completions.create(\n",
    "#   model=\"gpt-4-0613\",\n",
    "#   messages=[\n",
    "#     {\"role\": \"user\", \"content\": f\"{prompt}\"}\n",
    "#   ],\n",
    "#   max_tokens=4000\n",
    "# )\n",
    "# print(response)"
   ]
  }
 ],
 "metadata": {
  "kernelspec": {
   "display_name": "Python 3 (ipykernel)",
   "language": "python",
   "name": "python3"
  },
  "language_info": {
   "codemirror_mode": {
    "name": "ipython",
    "version": 3
   },
   "file_extension": ".py",
   "mimetype": "text/x-python",
   "name": "python",
   "nbconvert_exporter": "python",
   "pygments_lexer": "ipython3",
   "version": "3.11.6"
  }
 },
 "nbformat": 4,
 "nbformat_minor": 2
}
