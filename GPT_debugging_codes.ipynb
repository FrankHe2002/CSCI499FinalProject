{
 "cells": [
  {
   "cell_type": "code",
   "execution_count": 1,
   "metadata": {
    "scrolled": true
   },
   "outputs": [
    {
     "name": "stdout",
     "output_type": "stream",
     "text": [
      "Requirement already satisfied: openai in /Users/keyuhe/anaconda3/lib/python3.11/site-packages (1.3.7)\n",
      "Requirement already satisfied: anyio<4,>=3.5.0 in /Users/keyuhe/anaconda3/lib/python3.11/site-packages (from openai) (3.5.0)\n",
      "Requirement already satisfied: distro<2,>=1.7.0 in /Users/keyuhe/anaconda3/lib/python3.11/site-packages (from openai) (1.8.0)\n",
      "Requirement already satisfied: httpx<1,>=0.23.0 in /Users/keyuhe/anaconda3/lib/python3.11/site-packages (from openai) (0.25.1)\n",
      "Requirement already satisfied: pydantic<3,>=1.9.0 in /Users/keyuhe/anaconda3/lib/python3.11/site-packages (from openai) (1.10.8)\n",
      "Requirement already satisfied: sniffio in /Users/keyuhe/anaconda3/lib/python3.11/site-packages (from openai) (1.2.0)\n",
      "Requirement already satisfied: tqdm>4 in /Users/keyuhe/anaconda3/lib/python3.11/site-packages (from openai) (4.65.0)\n",
      "Requirement already satisfied: typing-extensions<5,>=4.5 in /Users/keyuhe/anaconda3/lib/python3.11/site-packages (from openai) (4.7.1)\n",
      "Requirement already satisfied: idna>=2.8 in /Users/keyuhe/anaconda3/lib/python3.11/site-packages (from anyio<4,>=3.5.0->openai) (3.4)\n",
      "Requirement already satisfied: certifi in /Users/keyuhe/anaconda3/lib/python3.11/site-packages (from httpx<1,>=0.23.0->openai) (2023.7.22)\n",
      "Requirement already satisfied: httpcore in /Users/keyuhe/anaconda3/lib/python3.11/site-packages (from httpx<1,>=0.23.0->openai) (1.0.1)\n",
      "Requirement already satisfied: h11<0.15,>=0.13 in /Users/keyuhe/anaconda3/lib/python3.11/site-packages (from httpcore->httpx<1,>=0.23.0->openai) (0.14.0)\n"
     ]
    }
   ],
   "source": [
    "!pip install --upgrade openai"
   ]
  },
  {
   "cell_type": "code",
   "execution_count": 2,
   "metadata": {},
   "outputs": [],
   "source": [
    "import os\n",
    "import openai\n",
    "import glob\n",
    "import time\n",
    "from tqdm import tqdm\n",
    "from concurrent.futures import ThreadPoolExecutor, as_completed"
   ]
  },
  {
   "cell_type": "code",
   "execution_count": 3,
   "metadata": {},
   "outputs": [],
   "source": [
    "def debug_code_with_gpt(description, code_content, API_KEY, few_shot, CoT):\n",
    "    if few_shot == '0' and CoT == 'n':\n",
    "        # for the prompt, use prompts/zeroShot_noCoT.txt as the prompt\n",
    "        with open('prompts/zeroShot_noCoT.txt', 'r') as file:\n",
    "            prompt = file.read().replace('{description}', description).replace('{code_content}', code_content)\n",
    "    elif few_shot == '0' and CoT == 'c':\n",
    "        with open('prompts/zeroShot_CoT.txt', 'r') as file:\n",
    "            prompt = file.read().replace('{description}', description).replace('{code_content}', code_content)\n",
    "    elif few_shot == 'f' and CoT == 'n': \n",
    "        with open('prompts/fewShot_noCoT.txt', 'r') as file:\n",
    "            prompt = file.read().replace('{description}', description).replace('{code_content}', code_content)\n",
    "    elif few_shot == 'f' and CoT == 'c':\n",
    "        with open('prompts/fewShot_CoT.txt', 'r') as file:\n",
    "            prompt = file.read().replace('{description}', description).replace('{code_content}', code_content)\n",
    "    else:\n",
    "        raise ValueError(\"few_shot should be '0' or 'f', CoT should be 'n' or 'c'.\")\n",
    "\n",
    "    try:\n",
    "        client = openai.OpenAI(api_key=API_KEY)\n",
    "#         # If we are about to hit the token limit, just wait.\n",
    "#         # Check the token limit, and wait if it is less than the token required for the next API call\n",
    "#         # Guess the token required for the next API call\n",
    "#         token_required = 2 * len(prompt) + 1000\n",
    "#         token_remaining = int(client.usage().data['data']['remaining'])\n",
    "#         if token_remaining < token_required:\n",
    "#             print(\"Waiting for token reset...\")\n",
    "#             while token_remaining < token_required:\n",
    "#                 token_remaining = int(client.usage().data['data']['remaining'])\n",
    "#                 time.sleep(5)\n",
    "#             print(\"Token reset. Continuing...\")\n",
    "        response = client.chat.completions.create(\n",
    "            model=\"gpt-3.5-turbo-1106\",\n",
    "            messages=[\n",
    "                {\"role\": \"user\", \"content\": f\"{prompt}\"}\n",
    "            ],\n",
    "            max_tokens=2048  # Adjust as needed\n",
    "        )\n",
    "        output = response.choices[0].message.content\n",
    "#         lines = output.split('\\n')\n",
    "#         # Remove the first and last lines\n",
    "#         modified_content = '\\n'.join(lines[1:-1])\n",
    "#         return modified_content\n",
    "        return output\n",
    "    except Exception as e:\n",
    "        print(\"Error during API call:\", e)\n",
    "        return None\n",
    "\n",
    "def process_file(file_path, target_directory, api_key, few_shot, CoT):\n",
    "    description_path = 'data/description/' + file_path.split('/')[-1].split('_')[0].split('.')[0] + '.txt'\n",
    "    # if the description file is not found, skip this file\n",
    "    try:\n",
    "        with open(description_path, 'r') as file:\n",
    "            description = file.read()\n",
    "    except:\n",
    "        print(\"Description file not found:\", description_path)\n",
    "        return None\n",
    "    \n",
    "    with open(file_path, 'r') as file:\n",
    "        code_content = file.read()\n",
    "\n",
    "    debugged_content = debug_code_with_gpt(description, code_content, api_key, few_shot, CoT)\n",
    "\n",
    "    if debugged_content:\n",
    "        target_file_path = os.path.join(target_directory, os.path.basename(file_path))\n",
    "        with open(target_file_path, 'w') as file:\n",
    "            file.write(debugged_content)\n",
    "#         print(f\"Debugged code written to {target_file_path}\")\n",
    "\n",
    "def process_files_in_parallel(source_directory, target_directory, api_key, few_shot, CoT, max_workers=3):\n",
    "    if not os.path.exists(target_directory):\n",
    "        os.makedirs(target_directory)\n",
    "\n",
    "    file_paths = glob.glob(os.path.join(source_directory, '*.java'))\n",
    "    with ThreadPoolExecutor(max_workers=max_workers) as executor:\n",
    "        futures = [executor.submit(process_file, file_path, target_directory, api_key, few_shot, CoT)\\\n",
    "                   for file_path in file_paths]\n",
    "        for future in tqdm(as_completed(futures), total=len(file_paths)):\n",
    "            future.result()  # This will re-raise any exception caught during process_file execution"
   ]
  },
  {
   "cell_type": "code",
   "execution_count": 4,
   "metadata": {},
   "outputs": [],
   "source": [
    "def main(few_shot, CoT):\n",
    "    with open('API_KEY.txt', 'r') as file:\n",
    "        api_key = file.read().strip()\n",
    "    source_dir = 'data/formatted/buggy_codes_GPT'  # Source directory\n",
    "#     source_dir = 'data/test/bug_codes_tests' # Source dir for pilot test\n",
    "    target_dir = f'data/formatted/debugged_desc_GPTBuggyCodes_{few_shot}_{CoT}'  # Target directory\n",
    "#     target_dir = f'data/test/debugged_GPTBuggyCodes_tests_{few_shot}_{CoT}' # Target dir for pilot test\n",
    "\n",
    "    process_files_in_parallel(source_dir, target_dir, api_key, few_shot, CoT)"
   ]
  },
  {
   "cell_type": "code",
   "execution_count": 5,
   "metadata": {},
   "outputs": [
    {
     "name": "stderr",
     "output_type": "stream",
     "text": [
      "  3%|█▎                                         | 6/198 [00:11<05:06,  1.60s/it]"
     ]
    },
    {
     "name": "stdout",
     "output_type": "stream",
     "text": [
      "Description file not found: data/description/Count Number of Maximum BitwiseOR Subsets.txt\n"
     ]
    },
    {
     "name": "stderr",
     "output_type": "stream",
     "text": [
      " 36%|███████████████▎                          | 72/198 [01:52<02:21,  1.12s/it]"
     ]
    },
    {
     "name": "stdout",
     "output_type": "stream",
     "text": [
      "Description file not found: data/description/Maximum Count of Positive Integer and Negative Integer.txt\n"
     ]
    },
    {
     "name": "stderr",
     "output_type": "stream",
     "text": [
      " 69%|████████████████████████████▎            | 137/198 [03:18<01:15,  1.24s/it]"
     ]
    },
    {
     "name": "stdout",
     "output_type": "stream",
     "text": [
      "Description file not found: data/description/Apply Bitwise Operations to Make Strings Equal.txt\n"
     ]
    },
    {
     "name": "stderr",
     "output_type": "stream",
     "text": [
      " 71%|████████████████████████████▉            | 140/198 [03:20<00:51,  1.12it/s]"
     ]
    },
    {
     "name": "stdout",
     "output_type": "stream",
     "text": [
      "Description file not found: data/description/Count Subarrays With Median K.txt\n"
     ]
    },
    {
     "name": "stderr",
     "output_type": "stream",
     "text": [
      " 85%|██████████████████████████████████▊      | 168/198 [03:50<00:30,  1.03s/it]"
     ]
    },
    {
     "name": "stdout",
     "output_type": "stream",
     "text": [
      "Description file not found: data/description/Find the Value of the Partition.txt\n"
     ]
    },
    {
     "name": "stderr",
     "output_type": "stream",
     "text": [
      " 98%|████████████████████████████████████████▏| 194/198 [04:15<00:03,  1.02it/s]"
     ]
    },
    {
     "name": "stdout",
     "output_type": "stream",
     "text": [
      "Description file not found: data/description/Maximum Number of Moves in a Grid.txt\n"
     ]
    },
    {
     "name": "stderr",
     "output_type": "stream",
     "text": [
      "100%|█████████████████████████████████████████| 198/198 [04:23<00:00,  1.33s/it]\n",
      "  3%|█▎                                         | 6/198 [00:12<05:00,  1.56s/it]"
     ]
    },
    {
     "name": "stdout",
     "output_type": "stream",
     "text": [
      "Description file not found: data/description/Count Number of Maximum BitwiseOR Subsets.txt\n"
     ]
    },
    {
     "name": "stderr",
     "output_type": "stream",
     "text": [
      " 36%|███████████████▎                          | 72/198 [02:20<03:59,  1.90s/it]"
     ]
    },
    {
     "name": "stdout",
     "output_type": "stream",
     "text": [
      "Description file not found: data/description/Maximum Count of Positive Integer and Negative Integer.txt\n"
     ]
    },
    {
     "name": "stderr",
     "output_type": "stream",
     "text": [
      " 69%|████████████████████████████▎            | 137/198 [04:30<02:16,  2.23s/it]"
     ]
    },
    {
     "name": "stdout",
     "output_type": "stream",
     "text": [
      "Description file not found: data/description/Apply Bitwise Operations to Make Strings Equal.txt\n"
     ]
    },
    {
     "name": "stderr",
     "output_type": "stream",
     "text": [
      " 71%|████████████████████████████▉            | 140/198 [04:33<01:31,  1.58s/it]"
     ]
    },
    {
     "name": "stdout",
     "output_type": "stream",
     "text": [
      "Description file not found: data/description/Count Subarrays With Median K.txt\n"
     ]
    },
    {
     "name": "stderr",
     "output_type": "stream",
     "text": [
      " 85%|██████████████████████████████████▊      | 168/198 [05:19<00:37,  1.24s/it]"
     ]
    },
    {
     "name": "stdout",
     "output_type": "stream",
     "text": [
      "Description file not found: data/description/Find the Value of the Partition.txt\n"
     ]
    },
    {
     "name": "stderr",
     "output_type": "stream",
     "text": [
      " 98%|████████████████████████████████████████▏| 194/198 [06:00<00:05,  1.44s/it]"
     ]
    },
    {
     "name": "stdout",
     "output_type": "stream",
     "text": [
      "Description file not found: data/description/Maximum Number of Moves in a Grid.txt\n"
     ]
    },
    {
     "name": "stderr",
     "output_type": "stream",
     "text": [
      "100%|█████████████████████████████████████████| 198/198 [06:09<00:00,  1.87s/it]\n",
      "  3%|█▎                                         | 6/198 [00:09<04:38,  1.45s/it]"
     ]
    },
    {
     "name": "stdout",
     "output_type": "stream",
     "text": [
      "Description file not found: data/description/Count Number of Maximum BitwiseOR Subsets.txt\n"
     ]
    },
    {
     "name": "stderr",
     "output_type": "stream",
     "text": [
      " 36%|███████████████▎                          | 72/198 [01:30<02:03,  1.02it/s]"
     ]
    },
    {
     "name": "stdout",
     "output_type": "stream",
     "text": [
      "Description file not found: data/description/Maximum Count of Positive Integer and Negative Integer.txt\n"
     ]
    },
    {
     "name": "stderr",
     "output_type": "stream",
     "text": [
      " 70%|████████████████████████████▊            | 139/198 [02:58<00:48,  1.22it/s]"
     ]
    },
    {
     "name": "stdout",
     "output_type": "stream",
     "text": [
      "Description file not found: data/description/Apply Bitwise Operations to Make Strings Equal.txt\n"
     ]
    },
    {
     "name": "stderr",
     "output_type": "stream",
     "text": [
      "\r",
      " 71%|████████████████████████████▉            | 140/198 [02:59<00:55,  1.05it/s]"
     ]
    },
    {
     "name": "stdout",
     "output_type": "stream",
     "text": [
      "Description file not found: data/description/Count Subarrays With Median K.txt\n"
     ]
    },
    {
     "name": "stderr",
     "output_type": "stream",
     "text": [
      " 86%|███████████████████████████████████▏     | 170/198 [03:28<00:13,  2.11it/s]"
     ]
    },
    {
     "name": "stdout",
     "output_type": "stream",
     "text": [
      "Description file not found: data/description/Find the Value of the Partition.txt\n"
     ]
    },
    {
     "name": "stderr",
     "output_type": "stream",
     "text": [
      " 98%|████████████████████████████████████████▏| 194/198 [03:54<00:03,  1.22it/s]"
     ]
    },
    {
     "name": "stdout",
     "output_type": "stream",
     "text": [
      "Description file not found: data/description/Maximum Number of Moves in a Grid.txt\n"
     ]
    },
    {
     "name": "stderr",
     "output_type": "stream",
     "text": [
      "100%|█████████████████████████████████████████| 198/198 [04:04<00:00,  1.23s/it]\n",
      "  3%|█▎                                         | 6/198 [00:11<05:21,  1.67s/it]"
     ]
    },
    {
     "name": "stdout",
     "output_type": "stream",
     "text": [
      "Description file not found: data/description/Count Number of Maximum BitwiseOR Subsets.txt\n"
     ]
    },
    {
     "name": "stderr",
     "output_type": "stream",
     "text": [
      " 36%|███████████████▎                          | 72/198 [01:52<03:11,  1.52s/it]"
     ]
    },
    {
     "name": "stdout",
     "output_type": "stream",
     "text": [
      "Description file not found: data/description/Maximum Count of Positive Integer and Negative Integer.txt\n"
     ]
    },
    {
     "name": "stderr",
     "output_type": "stream",
     "text": [
      " 70%|████████████████████████████▊            | 139/198 [03:42<01:26,  1.47s/it]"
     ]
    },
    {
     "name": "stdout",
     "output_type": "stream",
     "text": [
      "Description file not found: data/description/Apply Bitwise Operations to Make Strings Equal.txt\n",
      "Description file not found: data/description/Count Subarrays With Median K.txt\n"
     ]
    },
    {
     "name": "stderr",
     "output_type": "stream",
     "text": [
      " 85%|██████████████████████████████████▊      | 168/198 [04:23<00:39,  1.32s/it]"
     ]
    },
    {
     "name": "stdout",
     "output_type": "stream",
     "text": [
      "Description file not found: data/description/Find the Value of the Partition.txt\n"
     ]
    },
    {
     "name": "stderr",
     "output_type": "stream",
     "text": [
      " 98%|████████████████████████████████████████▏| 194/198 [05:00<00:05,  1.29s/it]"
     ]
    },
    {
     "name": "stdout",
     "output_type": "stream",
     "text": [
      "Description file not found: data/description/Maximum Number of Moves in a Grid.txt\n"
     ]
    },
    {
     "name": "stderr",
     "output_type": "stream",
     "text": [
      "100%|█████████████████████████████████████████| 198/198 [05:09<00:00,  1.56s/it]\n"
     ]
    }
   ],
   "source": [
    "if __name__ == \"__main__\":\n",
    "    # few_shot: '0' (zero-shot) or 'f' (few-shot)\n",
    "    # CoT: 'n' (no Chain-of-Thought) or 'c' (with Chain-of-Thought)\n",
    "    \n",
    "    # RUN ALL COMBINATIONS\n",
    "    few_shot = '0'\n",
    "    CoT = 'n'\n",
    "    main(few_shot, CoT)\n",
    "    \n",
    "    few_shot = '0'\n",
    "    CoT = 'c'\n",
    "    main(few_shot, CoT)\n",
    "    \n",
    "    few_shot = 'f'\n",
    "    CoT = 'n'\n",
    "    main(few_shot, CoT)\n",
    "    \n",
    "    few_shot = 'f'\n",
    "    CoT = 'c'\n",
    "    main(few_shot, CoT)"
   ]
  },
  {
   "cell_type": "code",
   "execution_count": null,
   "metadata": {},
   "outputs": [],
   "source": []
  }
 ],
 "metadata": {
  "kernelspec": {
   "display_name": "Python 3 (ipykernel)",
   "language": "python",
   "name": "python3"
  },
  "language_info": {
   "codemirror_mode": {
    "name": "ipython",
    "version": 3
   },
   "file_extension": ".py",
   "mimetype": "text/x-python",
   "name": "python",
   "nbconvert_exporter": "python",
   "pygments_lexer": "ipython3",
   "version": "3.11.6"
  }
 },
 "nbformat": 4,
 "nbformat_minor": 2
}
