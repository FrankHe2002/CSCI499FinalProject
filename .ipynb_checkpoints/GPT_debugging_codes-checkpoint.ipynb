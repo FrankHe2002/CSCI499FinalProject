{
 "cells": [
  {
   "cell_type": "code",
   "execution_count": 1,
   "metadata": {
    "scrolled": true
   },
   "outputs": [
    {
     "name": "stdout",
     "output_type": "stream",
     "text": [
      "Requirement already satisfied: openai in /Users/keyuhe/anaconda3/lib/python3.11/site-packages (1.3.6)\n",
      "Collecting openai\n",
      "  Obtaining dependency information for openai from https://files.pythonhosted.org/packages/3e/d3/309769dad11d5f75b81c7252d9dc849ed440d0921215e759af169054f3b6/openai-1.3.7-py3-none-any.whl.metadata\n",
      "  Downloading openai-1.3.7-py3-none-any.whl.metadata (17 kB)\n",
      "Requirement already satisfied: anyio<4,>=3.5.0 in /Users/keyuhe/anaconda3/lib/python3.11/site-packages (from openai) (3.5.0)\n",
      "Requirement already satisfied: distro<2,>=1.7.0 in /Users/keyuhe/anaconda3/lib/python3.11/site-packages (from openai) (1.8.0)\n",
      "Requirement already satisfied: httpx<1,>=0.23.0 in /Users/keyuhe/anaconda3/lib/python3.11/site-packages (from openai) (0.25.1)\n",
      "Requirement already satisfied: pydantic<3,>=1.9.0 in /Users/keyuhe/anaconda3/lib/python3.11/site-packages (from openai) (1.10.8)\n",
      "Requirement already satisfied: sniffio in /Users/keyuhe/anaconda3/lib/python3.11/site-packages (from openai) (1.2.0)\n",
      "Requirement already satisfied: tqdm>4 in /Users/keyuhe/anaconda3/lib/python3.11/site-packages (from openai) (4.65.0)\n",
      "Requirement already satisfied: typing-extensions<5,>=4.5 in /Users/keyuhe/anaconda3/lib/python3.11/site-packages (from openai) (4.7.1)\n",
      "Requirement already satisfied: idna>=2.8 in /Users/keyuhe/anaconda3/lib/python3.11/site-packages (from anyio<4,>=3.5.0->openai) (3.4)\n",
      "Requirement already satisfied: certifi in /Users/keyuhe/anaconda3/lib/python3.11/site-packages (from httpx<1,>=0.23.0->openai) (2023.7.22)\n",
      "Requirement already satisfied: httpcore in /Users/keyuhe/anaconda3/lib/python3.11/site-packages (from httpx<1,>=0.23.0->openai) (1.0.1)\n",
      "Requirement already satisfied: h11<0.15,>=0.13 in /Users/keyuhe/anaconda3/lib/python3.11/site-packages (from httpcore->httpx<1,>=0.23.0->openai) (0.14.0)\n",
      "Downloading openai-1.3.7-py3-none-any.whl (221 kB)\n",
      "\u001b[2K   \u001b[90m━━━━━━━━━━━━━━━━━━━━━━━━━━━━━━━━━━━━━━━━\u001b[0m \u001b[32m221.4/221.4 kB\u001b[0m \u001b[31m7.1 MB/s\u001b[0m eta \u001b[36m0:00:00\u001b[0m\n",
      "\u001b[?25hInstalling collected packages: openai\n",
      "  Attempting uninstall: openai\n",
      "    Found existing installation: openai 1.3.6\n",
      "    Uninstalling openai-1.3.6:\n",
      "      Successfully uninstalled openai-1.3.6\n",
      "Successfully installed openai-1.3.7\n"
     ]
    }
   ],
   "source": [
    "!pip install --upgrade openai"
   ]
  },
  {
   "cell_type": "code",
   "execution_count": 2,
   "metadata": {},
   "outputs": [],
   "source": [
    "import os\n",
    "import openai\n",
    "import glob\n",
    "from tqdm import tqdm\n",
    "from concurrent.futures import ThreadPoolExecutor, as_completed"
   ]
  },
  {
   "cell_type": "code",
   "execution_count": 7,
   "metadata": {},
   "outputs": [],
   "source": [
    "def debug_code_with_gpt(description, code_content, API_KEY, few_shot, CoT):\n",
    "    if few_shot == '0' and CoT == 'n':\n",
    "        # for the prompt, use prompts/zeroShot_noCoT.txt as the prompt\n",
    "        with open('prompts/zeroShot_noCoT.txt', 'r') as file:\n",
    "            prompt = file.read()\n",
    "    elif few_shot == '0' and CoT == 'c':\n",
    "        with open('prompts/zeroShot_CoT.txt', 'r') as file:\n",
    "            prompt = file.read()\n",
    "    elif few_shot == 'f' and CoT == 'n': \n",
    "        with open('prompts/fewShot_noCoT.txt', 'r') as file:\n",
    "            prompt = file.read()\n",
    "    elif few_shot == 'f' and CoT == 'c':\n",
    "        with open('prompts/fewShot_CoT.txt', 'r') as file:\n",
    "            prompt = file.read()\n",
    "    else:\n",
    "        raise ValueError(\"few_shot should be '0' or 'f', CoT should be 'n' or 'c'.\")\n",
    "    print(prompt)\n",
    "    return None\n",
    "    try:\n",
    "        client = openai.OpenAI(api_key=API_KEY)\n",
    "        response = client.chat.completions.create(\n",
    "            model=\"gpt-3.5-turbo\",\n",
    "            messages=[\n",
    "                {\"role\": \"user\", \"content\": f\"{prompt}\"}\n",
    "            ],\n",
    "            max_tokens=1024  # Adjust as needed\n",
    "        )\n",
    "        output = response.choices[0].message.content\n",
    "#         lines = output.split('\\n')\n",
    "#         # Remove the first and last lines\n",
    "#         modified_content = '\\n'.join(lines[1:-1])\n",
    "#         return modified_content\n",
    "        return output\n",
    "    except Exception as e:\n",
    "        print(\"Error during API call:\", e)\n",
    "        return None\n",
    "\n",
    "def process_file(file_path, target_directory, api_key, few_shot, CoT):\n",
    "    with open(file_path, 'r') as file:\n",
    "        file_content = file.read()\n",
    "    with open\n",
    "\n",
    "    debugged_content = debug_code_with_gpt(file_content, api_key, few_shot, CoT)\n",
    "\n",
    "    if debugged_content:\n",
    "        target_file_path = os.path.join(target_directory, os.path.basename(file_path))\n",
    "        with open(target_file_path, 'w') as file:\n",
    "            file.write(debugged_content)\n",
    "#         print(f\"Debugged code written to {target_file_path}\")\n",
    "\n",
    "def process_files_in_parallel(source_directory, target_directory, api_key, few_shot, CoT, max_workers=30):\n",
    "    if not os.path.exists(target_directory):\n",
    "        os.makedirs(target_directory)\n",
    "\n",
    "    file_paths = glob.glob(os.path.join(source_directory, '*.java'))\n",
    "    with ThreadPoolExecutor(max_workers=max_workers) as executor:\n",
    "        futures = [executor.submit(process_file, file_path, target_directory, api_key, few_shot, CoT)\\\n",
    "                   for file_path in file_paths]\n",
    "        for future in tqdm(as_completed(futures), total=len(file_paths)):\n",
    "            future.result()  # This will re-raise any exception caught during process_file execution"
   ]
  },
  {
   "cell_type": "code",
   "execution_count": 4,
   "metadata": {},
   "outputs": [],
   "source": [
    "def main(few_shot, CoT):\n",
    "    with open('API_KEY.txt', 'r') as file:\n",
    "        api_key = file.read().strip()\n",
    "#     source_dir = 'data/formatted/buggy_codes_GPT'  # Source directory\n",
    "    source_dir = 'data/test/bug_codes_tests'\n",
    "#     target_dir = f'data/formatted/debugged_GPTBuggyCodes_{few_shot}_{CoT}'  # Target directory\n",
    "    target_dir = f'data/test/debugged_GPTBuggyCodes_tests_{few_shot}_{CoT}'\n",
    "\n",
    "    process_files_in_parallel(source_dir, target_dir, api_key, few_shot, CoT)"
   ]
  },
  {
   "cell_type": "code",
   "execution_count": 5,
   "metadata": {},
   "outputs": [
    {
     "name": "stderr",
     "output_type": "stream",
     "text": [
      "  0%|                                                   | 0/198 [00:00<?, ?it/s]\n"
     ]
    },
    {
     "ename": "TypeError",
     "evalue": "debug_code_with_gpt() missing 1 required positional argument: 'CoT'",
     "output_type": "error",
     "traceback": [
      "\u001b[0;31m---------------------------------------------------------------------------\u001b[0m",
      "\u001b[0;31mTypeError\u001b[0m                                 Traceback (most recent call last)",
      "Cell \u001b[0;32mIn[5], line 8\u001b[0m\n\u001b[1;32m      6\u001b[0m few_shot \u001b[38;5;241m=\u001b[39m \u001b[38;5;124m'\u001b[39m\u001b[38;5;124m0\u001b[39m\u001b[38;5;124m'\u001b[39m\n\u001b[1;32m      7\u001b[0m CoT \u001b[38;5;241m=\u001b[39m \u001b[38;5;124m'\u001b[39m\u001b[38;5;124mn\u001b[39m\u001b[38;5;124m'\u001b[39m\n\u001b[0;32m----> 8\u001b[0m main(few_shot, CoT)\n\u001b[1;32m     10\u001b[0m few_shot \u001b[38;5;241m=\u001b[39m \u001b[38;5;124m'\u001b[39m\u001b[38;5;124m0\u001b[39m\u001b[38;5;124m'\u001b[39m\n\u001b[1;32m     11\u001b[0m CoT \u001b[38;5;241m=\u001b[39m \u001b[38;5;124m'\u001b[39m\u001b[38;5;124mc\u001b[39m\u001b[38;5;124m'\u001b[39m\n",
      "Cell \u001b[0;32mIn[4], line 7\u001b[0m, in \u001b[0;36mmain\u001b[0;34m(few_shot, CoT)\u001b[0m\n\u001b[1;32m      4\u001b[0m source_dir \u001b[38;5;241m=\u001b[39m \u001b[38;5;124m'\u001b[39m\u001b[38;5;124mdata/formatted/buggy_codes_GPT\u001b[39m\u001b[38;5;124m'\u001b[39m  \u001b[38;5;66;03m# Source directory\u001b[39;00m\n\u001b[1;32m      5\u001b[0m target_dir \u001b[38;5;241m=\u001b[39m \u001b[38;5;124mf\u001b[39m\u001b[38;5;124m'\u001b[39m\u001b[38;5;124mdata/formatted/debugged_GPTBuggyCodes_\u001b[39m\u001b[38;5;132;01m{\u001b[39;00mfew_shot\u001b[38;5;132;01m}\u001b[39;00m\u001b[38;5;124m_\u001b[39m\u001b[38;5;132;01m{\u001b[39;00mCoT\u001b[38;5;132;01m}\u001b[39;00m\u001b[38;5;124m'\u001b[39m  \u001b[38;5;66;03m# Target directory\u001b[39;00m\n\u001b[0;32m----> 7\u001b[0m process_files_in_parallel(source_dir, target_dir, api_key, few_shot, CoT)\n",
      "Cell \u001b[0;32mIn[3], line 59\u001b[0m, in \u001b[0;36mprocess_files_in_parallel\u001b[0;34m(source_directory, target_directory, api_key, few_shot, CoT, max_workers)\u001b[0m\n\u001b[1;32m     56\u001b[0m futures \u001b[38;5;241m=\u001b[39m [executor\u001b[38;5;241m.\u001b[39msubmit(process_file, file_path, target_directory, api_key, few_shot, CoT)\\\n\u001b[1;32m     57\u001b[0m            \u001b[38;5;28;01mfor\u001b[39;00m file_path \u001b[38;5;129;01min\u001b[39;00m file_paths]\n\u001b[1;32m     58\u001b[0m \u001b[38;5;28;01mfor\u001b[39;00m future \u001b[38;5;129;01min\u001b[39;00m tqdm(as_completed(futures), total\u001b[38;5;241m=\u001b[39m\u001b[38;5;28mlen\u001b[39m(file_paths)):\n\u001b[0;32m---> 59\u001b[0m     future\u001b[38;5;241m.\u001b[39mresult()\n",
      "File \u001b[0;32m~/anaconda3/lib/python3.11/concurrent/futures/_base.py:449\u001b[0m, in \u001b[0;36mFuture.result\u001b[0;34m(self, timeout)\u001b[0m\n\u001b[1;32m    447\u001b[0m     \u001b[38;5;28;01mraise\u001b[39;00m CancelledError()\n\u001b[1;32m    448\u001b[0m \u001b[38;5;28;01melif\u001b[39;00m \u001b[38;5;28mself\u001b[39m\u001b[38;5;241m.\u001b[39m_state \u001b[38;5;241m==\u001b[39m FINISHED:\n\u001b[0;32m--> 449\u001b[0m     \u001b[38;5;28;01mreturn\u001b[39;00m \u001b[38;5;28mself\u001b[39m\u001b[38;5;241m.\u001b[39m__get_result()\n\u001b[1;32m    451\u001b[0m \u001b[38;5;28mself\u001b[39m\u001b[38;5;241m.\u001b[39m_condition\u001b[38;5;241m.\u001b[39mwait(timeout)\n\u001b[1;32m    453\u001b[0m \u001b[38;5;28;01mif\u001b[39;00m \u001b[38;5;28mself\u001b[39m\u001b[38;5;241m.\u001b[39m_state \u001b[38;5;129;01min\u001b[39;00m [CANCELLED, CANCELLED_AND_NOTIFIED]:\n",
      "File \u001b[0;32m~/anaconda3/lib/python3.11/concurrent/futures/_base.py:401\u001b[0m, in \u001b[0;36mFuture.__get_result\u001b[0;34m(self)\u001b[0m\n\u001b[1;32m    399\u001b[0m \u001b[38;5;28;01mif\u001b[39;00m \u001b[38;5;28mself\u001b[39m\u001b[38;5;241m.\u001b[39m_exception:\n\u001b[1;32m    400\u001b[0m     \u001b[38;5;28;01mtry\u001b[39;00m:\n\u001b[0;32m--> 401\u001b[0m         \u001b[38;5;28;01mraise\u001b[39;00m \u001b[38;5;28mself\u001b[39m\u001b[38;5;241m.\u001b[39m_exception\n\u001b[1;32m    402\u001b[0m     \u001b[38;5;28;01mfinally\u001b[39;00m:\n\u001b[1;32m    403\u001b[0m         \u001b[38;5;66;03m# Break a reference cycle with the exception in self._exception\u001b[39;00m\n\u001b[1;32m    404\u001b[0m         \u001b[38;5;28mself\u001b[39m \u001b[38;5;241m=\u001b[39m \u001b[38;5;28;01mNone\u001b[39;00m\n",
      "File \u001b[0;32m~/anaconda3/lib/python3.11/concurrent/futures/thread.py:58\u001b[0m, in \u001b[0;36m_WorkItem.run\u001b[0;34m(self)\u001b[0m\n\u001b[1;32m     55\u001b[0m     \u001b[38;5;28;01mreturn\u001b[39;00m\n\u001b[1;32m     57\u001b[0m \u001b[38;5;28;01mtry\u001b[39;00m:\n\u001b[0;32m---> 58\u001b[0m     result \u001b[38;5;241m=\u001b[39m \u001b[38;5;28mself\u001b[39m\u001b[38;5;241m.\u001b[39mfn(\u001b[38;5;241m*\u001b[39m\u001b[38;5;28mself\u001b[39m\u001b[38;5;241m.\u001b[39margs, \u001b[38;5;241m*\u001b[39m\u001b[38;5;241m*\u001b[39m\u001b[38;5;28mself\u001b[39m\u001b[38;5;241m.\u001b[39mkwargs)\n\u001b[1;32m     59\u001b[0m \u001b[38;5;28;01mexcept\u001b[39;00m \u001b[38;5;167;01mBaseException\u001b[39;00m \u001b[38;5;28;01mas\u001b[39;00m exc:\n\u001b[1;32m     60\u001b[0m     \u001b[38;5;28mself\u001b[39m\u001b[38;5;241m.\u001b[39mfuture\u001b[38;5;241m.\u001b[39mset_exception(exc)\n",
      "Cell \u001b[0;32mIn[3], line 42\u001b[0m, in \u001b[0;36mprocess_file\u001b[0;34m(file_path, target_directory, api_key, few_shot, CoT)\u001b[0m\n\u001b[1;32m     39\u001b[0m \u001b[38;5;28;01mwith\u001b[39;00m \u001b[38;5;28mopen\u001b[39m(file_path, \u001b[38;5;124m'\u001b[39m\u001b[38;5;124mr\u001b[39m\u001b[38;5;124m'\u001b[39m) \u001b[38;5;28;01mas\u001b[39;00m file:\n\u001b[1;32m     40\u001b[0m     file_content \u001b[38;5;241m=\u001b[39m file\u001b[38;5;241m.\u001b[39mread()\n\u001b[0;32m---> 42\u001b[0m debugged_content \u001b[38;5;241m=\u001b[39m debug_code_with_gpt(file_content, api_key, few_shot, CoT)\n\u001b[1;32m     44\u001b[0m \u001b[38;5;28;01mif\u001b[39;00m debugged_content:\n\u001b[1;32m     45\u001b[0m     target_file_path \u001b[38;5;241m=\u001b[39m os\u001b[38;5;241m.\u001b[39mpath\u001b[38;5;241m.\u001b[39mjoin(target_directory, os\u001b[38;5;241m.\u001b[39mpath\u001b[38;5;241m.\u001b[39mbasename(file_path))\n",
      "\u001b[0;31mTypeError\u001b[0m: debug_code_with_gpt() missing 1 required positional argument: 'CoT'"
     ]
    }
   ],
   "source": [
    "if __name__ == \"__main__\":\n",
    "    # few_shot: '0' (zero-shot) or 'f' (few-shot)\n",
    "    # CoT: 'n' (no Chain-of-Thought) or 'c' (with Chain-of-Thought)\n",
    "    \n",
    "    # RUN ALL COMBINATIONS\n",
    "    few_shot = '0'\n",
    "    CoT = 'n'\n",
    "    main(few_shot, CoT)\n",
    "    \n",
    "    few_shot = '0'\n",
    "    CoT = 'c'\n",
    "    main(few_shot, CoT)\n",
    "    \n",
    "    few_shot = 'f'\n",
    "    CoT = 'n'\n",
    "    main(few_shot, CoT)\n",
    "    \n",
    "    few_shot = 'f'\n",
    "    CoT = 'c'\n",
    "    main(few_shot, CoT)"
   ]
  },
  {
   "cell_type": "code",
   "execution_count": null,
   "metadata": {},
   "outputs": [],
   "source": []
  }
 ],
 "metadata": {
  "kernelspec": {
   "display_name": "Python 3 (ipykernel)",
   "language": "python",
   "name": "python3"
  },
  "language_info": {
   "codemirror_mode": {
    "name": "ipython",
    "version": 3
   },
   "file_extension": ".py",
   "mimetype": "text/x-python",
   "name": "python",
   "nbconvert_exporter": "python",
   "pygments_lexer": "ipython3",
   "version": "3.11.6"
  }
 },
 "nbformat": 4,
 "nbformat_minor": 2
}
